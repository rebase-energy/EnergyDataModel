{
 "cells": [
  {
   "cell_type": "code",
   "execution_count": 5,
   "metadata": {},
   "outputs": [],
   "source": [
    "import os\n",
    "\n",
    "if \"COLAB_RELEASE_TAG\" in os.environ:\n",
    "    !pip install git+https://github.com/rebase-energy/EnergyDataModel.git"
   ]
  },
  {
   "cell_type": "code",
   "execution_count": 17,
   "metadata": {},
   "outputs": [
    {
     "name": "stdout",
     "output_type": "stream",
     "text": [
      "MyPortfolio (edm.Portfolio)\n",
      "└── MySite (edm.Site)\n",
      "    ├── PVSystem (edm.PVSystem)\n",
      "    └── Battery (edm.Battery)\n"
     ]
    }
   ],
   "source": [
    "import energydatamodel as edm\n",
    "\n",
    "pvsystem = edm.PVSystem(name=\"PVSystem\",\n",
    "                        capacity=2400,\n",
    "                        surface_azimuth=180,\n",
    "                        surface_tilt=25)\n",
    "\n",
    "battery = edm.Battery(name=\"Battery\",\n",
    "                      storage_capacity=1000,\n",
    "                      min_soc=150,\n",
    "                      max_charge=500,\n",
    "                      max_discharge=500)\n",
    "\n",
    "site = edm.Site(name=\"MySite\",\n",
    "                assets=[pvsystem, battery],\n",
    "                latitude=46, \n",
    "                longitude=64)\n",
    "\n",
    "portfolio = edm.Portfolio(name=\"MyPortfolio\",\n",
    "                          collections=[site])\n",
    "\n",
    "portfolio.to_tree(show_type=True)"
   ]
  },
  {
   "cell_type": "code",
   "execution_count": 15,
   "metadata": {},
   "outputs": [
    {
     "name": "stdout",
     "output_type": "stream",
     "text": [
      "None (edm.Portfolio)\n",
      "├── None (edm.Site)\n",
      "│   ├── None (edm.PVSystem)\n",
      "│   │   └── None (edm.PVArray)\n",
      "│   ├── None (edm.WindTurbine)\n",
      "│   ├── None (edm.Battery)\n",
      "│   └── None (edm.GeoLocation)\n",
      "└── None (edm.Site)\n",
      "    ├── None (edm.PVSystem)\n",
      "    │   └── None (edm.PVArray)\n",
      "    ├── None (edm.WindTurbine)\n",
      "    ├── None (edm.Battery)\n",
      "    └── None (edm.GeoLocation)\n"
     ]
    }
   ],
   "source": [
    "import energydatamodel as edm\n",
    "\n",
    "pvsystem_1 = edm.PVSystem(capacity=2400, surface_azimuth=180, surface_tilt=25)\n",
    "windturbine_1 = edm.WindTurbine(capacity=3200, hub_height=120, rotor_diameter=100)\n",
    "battery_1 = edm.Battery(storage_capacity=1000, min_soc=150, max_charge=500, max_discharge=500)\n",
    "\n",
    "site_1 = edm.Site(assets=[pvsystem_1, windturbine_1, battery_1],\n",
    "                  latitude=46, \n",
    "                  longitude=64)\n",
    "\n",
    "pvsystem_2 = edm.PVSystem(capacity=2400, surface_azimuth=180, surface_tilt=25)\n",
    "windturbine_2 = edm.WindTurbine(capacity=3200, hub_height=120, rotor_diameter=100)\n",
    "battery_2 = edm.Battery(storage_capacity=1000, min_soc=150, max_charge=500, max_discharge=500)\n",
    "\n",
    "site_2 = edm.Site(assets=[pvsystem_2, windturbine_2, battery_2],\n",
    "                  latitude=51, \n",
    "                  longitude=58)\n",
    "\n",
    "portfolio = edm.Portfolio(collections=[site_1, site_2])\n",
    "portfolio.to_tree(only_named=False, show_type=True)"
   ]
  },
  {
   "cell_type": "code",
   "execution_count": 18,
   "metadata": {},
   "outputs": [
    {
     "data": {
      "text/plain": [
       "{'Portfolio': {'name': 'MyPortfolio',\n",
       "  'assets': [],\n",
       "  'collections': [{'Site': {'name': 'MySite',\n",
       "     'assets': [{'PVSystem': {'name': 'PVSystem',\n",
       "        'pv_arrays': [{'PVArray': {'capacity': 2400,\n",
       "           'surface_azimuth': 180,\n",
       "           'surface_tilt': 25,\n",
       "           'module_type': 'glass_polymer'}}],\n",
       "        'capacity': 2400,\n",
       "        'surface_azimuth': 180,\n",
       "        'surface_tilt': 25,\n",
       "        'module_type': 'glass_polymer',\n",
       "        'racking_model': 'open_rack'}},\n",
       "      {'Battery': {'name': 'Battery',\n",
       "        'storage_capacity': 1000,\n",
       "        'min_soc': 150,\n",
       "        'max_charge': 500,\n",
       "        'max_discharge': 500}}],\n",
       "     'collections': [],\n",
       "     'longitude': 64,\n",
       "     'latitude': 46,\n",
       "     'GeoLocation': {'longitude': 64, 'latitude': 46},\n",
       "     '_id': '30d2bb2a-07ec-48f7-bdd1-51984c5c1743'}}]}}"
      ]
     },
     "execution_count": 18,
     "metadata": {},
     "output_type": "execute_result"
    }
   ],
   "source": [
    "portfolio.to_json()"
   ]
  },
  {
   "cell_type": "code",
   "execution_count": null,
   "metadata": {},
   "outputs": [],
   "source": []
  }
 ],
 "metadata": {
  "kernelspec": {
   "display_name": ".venv",
   "language": "python",
   "name": "python3"
  },
  "language_info": {
   "codemirror_mode": {
    "name": "ipython",
    "version": 3
   },
   "file_extension": ".py",
   "mimetype": "text/x-python",
   "name": "python",
   "nbconvert_exporter": "python",
   "pygments_lexer": "ipython3",
   "version": "3.11.4"
  }
 },
 "nbformat": 4,
 "nbformat_minor": 2
}
